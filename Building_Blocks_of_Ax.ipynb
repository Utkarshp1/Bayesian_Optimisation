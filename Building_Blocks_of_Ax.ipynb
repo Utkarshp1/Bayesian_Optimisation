{
  "nbformat": 4,
  "nbformat_minor": 0,
  "metadata": {
    "colab": {
      "name": "Building_Blocks_of_Ax.ipynb",
      "provenance": [],
      "collapsed_sections": [],
      "authorship_tag": "ABX9TyPvgzKKB0w2IINik2vpnDCL",
      "include_colab_link": true
    },
    "kernelspec": {
      "name": "python3",
      "display_name": "Python 3"
    },
    "language_info": {
      "name": "python"
    }
  },
  "cells": [
    {
      "cell_type": "markdown",
      "metadata": {
        "id": "view-in-github",
        "colab_type": "text"
      },
      "source": [
        "<a href=\"https://colab.research.google.com/github/Utkarshp1/Bayesian_Optimisation/blob/master/Building_Blocks_of_Ax.ipynb\" target=\"_parent\"><img src=\"https://colab.research.google.com/assets/colab-badge.svg\" alt=\"Open In Colab\"/></a>"
      ]
    },
    {
      "cell_type": "markdown",
      "metadata": {
        "id": "73epdwNwK3mw"
      },
      "source": [
        "# Building Blocks of Ax"
      ]
    },
    {
      "cell_type": "code",
      "metadata": {
        "colab": {
          "base_uri": "https://localhost:8080/"
        },
        "id": "bQguDU_tKk-y",
        "outputId": "aa4c479e-d212-4f93-8807-af02bfb358cb"
      },
      "source": [
        "!pip3 install ax-platform"
      ],
      "execution_count": null,
      "outputs": [
        {
          "output_type": "stream",
          "text": [
            "Collecting ax-platform\n",
            "\u001b[?25l  Downloading https://files.pythonhosted.org/packages/3c/6e/f2c94834dac86ba105ff0c46a15600f9da456e7b38de5d143144d55de1cb/ax_platform-0.2.0-py3-none-any.whl (815kB)\n",
            "\r\u001b[K     |▍                               | 10kB 12.2MB/s eta 0:00:01\r\u001b[K     |▉                               | 20kB 15.2MB/s eta 0:00:01\r\u001b[K     |█▏                              | 30kB 18.2MB/s eta 0:00:01\r\u001b[K     |█▋                              | 40kB 19.6MB/s eta 0:00:01\r\u001b[K     |██                              | 51kB 13.9MB/s eta 0:00:01\r\u001b[K     |██▍                             | 61kB 12.9MB/s eta 0:00:01\r\u001b[K     |██▉                             | 71kB 11.7MB/s eta 0:00:01\r\u001b[K     |███▏                            | 81kB 12.5MB/s eta 0:00:01\r\u001b[K     |███▋                            | 92kB 12.0MB/s eta 0:00:01\r\u001b[K     |████                            | 102kB 13.0MB/s eta 0:00:01\r\u001b[K     |████▍                           | 112kB 13.0MB/s eta 0:00:01\r\u001b[K     |████▉                           | 122kB 13.0MB/s eta 0:00:01\r\u001b[K     |█████▏                          | 133kB 13.0MB/s eta 0:00:01\r\u001b[K     |█████▋                          | 143kB 13.0MB/s eta 0:00:01\r\u001b[K     |██████                          | 153kB 13.0MB/s eta 0:00:01\r\u001b[K     |██████▍                         | 163kB 13.0MB/s eta 0:00:01\r\u001b[K     |██████▉                         | 174kB 13.0MB/s eta 0:00:01\r\u001b[K     |███████▎                        | 184kB 13.0MB/s eta 0:00:01\r\u001b[K     |███████▋                        | 194kB 13.0MB/s eta 0:00:01\r\u001b[K     |████████                        | 204kB 13.0MB/s eta 0:00:01\r\u001b[K     |████████▍                       | 215kB 13.0MB/s eta 0:00:01\r\u001b[K     |████████▉                       | 225kB 13.0MB/s eta 0:00:01\r\u001b[K     |█████████▎                      | 235kB 13.0MB/s eta 0:00:01\r\u001b[K     |█████████▋                      | 245kB 13.0MB/s eta 0:00:01\r\u001b[K     |██████████                      | 256kB 13.0MB/s eta 0:00:01\r\u001b[K     |██████████▍                     | 266kB 13.0MB/s eta 0:00:01\r\u001b[K     |██████████▉                     | 276kB 13.0MB/s eta 0:00:01\r\u001b[K     |███████████▎                    | 286kB 13.0MB/s eta 0:00:01\r\u001b[K     |███████████▋                    | 296kB 13.0MB/s eta 0:00:01\r\u001b[K     |████████████                    | 307kB 13.0MB/s eta 0:00:01\r\u001b[K     |████████████▌                   | 317kB 13.0MB/s eta 0:00:01\r\u001b[K     |████████████▉                   | 327kB 13.0MB/s eta 0:00:01\r\u001b[K     |█████████████▎                  | 337kB 13.0MB/s eta 0:00:01\r\u001b[K     |█████████████▋                  | 348kB 13.0MB/s eta 0:00:01\r\u001b[K     |██████████████                  | 358kB 13.0MB/s eta 0:00:01\r\u001b[K     |██████████████▌                 | 368kB 13.0MB/s eta 0:00:01\r\u001b[K     |██████████████▉                 | 378kB 13.0MB/s eta 0:00:01\r\u001b[K     |███████████████▎                | 389kB 13.0MB/s eta 0:00:01\r\u001b[K     |███████████████▋                | 399kB 13.0MB/s eta 0:00:01\r\u001b[K     |████████████████                | 409kB 13.0MB/s eta 0:00:01\r\u001b[K     |████████████████▌               | 419kB 13.0MB/s eta 0:00:01\r\u001b[K     |████████████████▉               | 430kB 13.0MB/s eta 0:00:01\r\u001b[K     |█████████████████▎              | 440kB 13.0MB/s eta 0:00:01\r\u001b[K     |█████████████████▊              | 450kB 13.0MB/s eta 0:00:01\r\u001b[K     |██████████████████              | 460kB 13.0MB/s eta 0:00:01\r\u001b[K     |██████████████████▌             | 471kB 13.0MB/s eta 0:00:01\r\u001b[K     |██████████████████▉             | 481kB 13.0MB/s eta 0:00:01\r\u001b[K     |███████████████████▎            | 491kB 13.0MB/s eta 0:00:01\r\u001b[K     |███████████████████▊            | 501kB 13.0MB/s eta 0:00:01\r\u001b[K     |████████████████████            | 512kB 13.0MB/s eta 0:00:01\r\u001b[K     |████████████████████▌           | 522kB 13.0MB/s eta 0:00:01\r\u001b[K     |████████████████████▉           | 532kB 13.0MB/s eta 0:00:01\r\u001b[K     |█████████████████████▎          | 542kB 13.0MB/s eta 0:00:01\r\u001b[K     |█████████████████████▊          | 552kB 13.0MB/s eta 0:00:01\r\u001b[K     |██████████████████████          | 563kB 13.0MB/s eta 0:00:01\r\u001b[K     |██████████████████████▌         | 573kB 13.0MB/s eta 0:00:01\r\u001b[K     |███████████████████████         | 583kB 13.0MB/s eta 0:00:01\r\u001b[K     |███████████████████████▎        | 593kB 13.0MB/s eta 0:00:01\r\u001b[K     |███████████████████████▊        | 604kB 13.0MB/s eta 0:00:01\r\u001b[K     |████████████████████████        | 614kB 13.0MB/s eta 0:00:01\r\u001b[K     |████████████████████████▌       | 624kB 13.0MB/s eta 0:00:01\r\u001b[K     |█████████████████████████       | 634kB 13.0MB/s eta 0:00:01\r\u001b[K     |█████████████████████████▎      | 645kB 13.0MB/s eta 0:00:01\r\u001b[K     |█████████████████████████▊      | 655kB 13.0MB/s eta 0:00:01\r\u001b[K     |██████████████████████████      | 665kB 13.0MB/s eta 0:00:01\r\u001b[K     |██████████████████████████▌     | 675kB 13.0MB/s eta 0:00:01\r\u001b[K     |███████████████████████████     | 686kB 13.0MB/s eta 0:00:01\r\u001b[K     |███████████████████████████▎    | 696kB 13.0MB/s eta 0:00:01\r\u001b[K     |███████████████████████████▊    | 706kB 13.0MB/s eta 0:00:01\r\u001b[K     |████████████████████████████▏   | 716kB 13.0MB/s eta 0:00:01\r\u001b[K     |████████████████████████████▌   | 727kB 13.0MB/s eta 0:00:01\r\u001b[K     |█████████████████████████████   | 737kB 13.0MB/s eta 0:00:01\r\u001b[K     |█████████████████████████████▎  | 747kB 13.0MB/s eta 0:00:01\r\u001b[K     |█████████████████████████████▊  | 757kB 13.0MB/s eta 0:00:01\r\u001b[K     |██████████████████████████████▏ | 768kB 13.0MB/s eta 0:00:01\r\u001b[K     |██████████████████████████████▌ | 778kB 13.0MB/s eta 0:00:01\r\u001b[K     |███████████████████████████████ | 788kB 13.0MB/s eta 0:00:01\r\u001b[K     |███████████████████████████████▎| 798kB 13.0MB/s eta 0:00:01\r\u001b[K     |███████████████████████████████▊| 808kB 13.0MB/s eta 0:00:01\r\u001b[K     |████████████████████████████████| 819kB 13.0MB/s \n",
            "\u001b[?25hRequirement already satisfied: typeguard in /usr/local/lib/python3.7/dist-packages (from ax-platform) (2.7.1)\n",
            "Requirement already satisfied: pandas in /usr/local/lib/python3.7/dist-packages (from ax-platform) (1.1.5)\n",
            "Requirement already satisfied: scipy in /usr/local/lib/python3.7/dist-packages (from ax-platform) (1.4.1)\n",
            "Requirement already satisfied: jinja2 in /usr/local/lib/python3.7/dist-packages (from ax-platform) (2.11.3)\n",
            "Collecting botorch==0.5.0\n",
            "\u001b[?25l  Downloading https://files.pythonhosted.org/packages/28/c4/21f596cd9e22abc33861a3314e0003002a1e948eddcb377289d0354d5e32/botorch-0.5.0-py3-none-any.whl (475kB)\n",
            "\u001b[K     |████████████████████████████████| 481kB 33.5MB/s \n",
            "\u001b[?25hRequirement already satisfied: scikit-learn in /usr/local/lib/python3.7/dist-packages (from ax-platform) (0.22.2.post1)\n",
            "Requirement already satisfied: plotly in /usr/local/lib/python3.7/dist-packages (from ax-platform) (4.4.1)\n",
            "Requirement already satisfied: python-dateutil>=2.7.3 in /usr/local/lib/python3.7/dist-packages (from pandas->ax-platform) (2.8.1)\n",
            "Requirement already satisfied: numpy>=1.15.4 in /usr/local/lib/python3.7/dist-packages (from pandas->ax-platform) (1.19.5)\n",
            "Requirement already satisfied: pytz>=2017.2 in /usr/local/lib/python3.7/dist-packages (from pandas->ax-platform) (2018.9)\n",
            "Requirement already satisfied: MarkupSafe>=0.23 in /usr/local/lib/python3.7/dist-packages (from jinja2->ax-platform) (2.0.1)\n",
            "Collecting gpytorch>=1.5\n",
            "\u001b[?25l  Downloading https://files.pythonhosted.org/packages/4a/fa/b6db02ee0e98e89752bdae11534034251bc08317cdc325dd1878732b152d/gpytorch-1.5.0-py2.py3-none-any.whl (498kB)\n",
            "\u001b[K     |████████████████████████████████| 501kB 39.6MB/s \n",
            "\u001b[?25hRequirement already satisfied: torch>=1.8.1 in /usr/local/lib/python3.7/dist-packages (from botorch==0.5.0->ax-platform) (1.9.0+cu102)\n",
            "Requirement already satisfied: joblib>=0.11 in /usr/local/lib/python3.7/dist-packages (from scikit-learn->ax-platform) (1.0.1)\n",
            "Requirement already satisfied: retrying>=1.3.3 in /usr/local/lib/python3.7/dist-packages (from plotly->ax-platform) (1.3.3)\n",
            "Requirement already satisfied: six in /usr/local/lib/python3.7/dist-packages (from plotly->ax-platform) (1.15.0)\n",
            "Requirement already satisfied: typing-extensions in /usr/local/lib/python3.7/dist-packages (from torch>=1.8.1->botorch==0.5.0->ax-platform) (3.7.4.3)\n",
            "Installing collected packages: gpytorch, botorch, ax-platform\n",
            "Successfully installed ax-platform-0.2.0 botorch-0.5.0 gpytorch-1.5.0\n"
          ],
          "name": "stdout"
        }
      ]
    },
    {
      "cell_type": "markdown",
      "metadata": {
        "id": "4i8sLIf4LUnT"
      },
      "source": [
        "This tutorial illustrates the core Ax classes and their usage by constructing, running, and saving an experiment through the Developer API."
      ]
    },
    {
      "cell_type": "code",
      "metadata": {
        "id": "oPchI-iIK_Ac"
      },
      "source": [
        "import pandas as pd\n",
        "from ax import *"
      ],
      "execution_count": null,
      "outputs": []
    },
    {
      "cell_type": "markdown",
      "metadata": {
        "id": "LMbYXEMPLxjZ"
      },
      "source": [
        "## 1. Define the Search Space\n",
        "\n",
        "Here we range over two parameters, each of which can take on values between 0 and 10."
      ]
    },
    {
      "cell_type": "code",
      "metadata": {
        "id": "YnjteiQoLwQM"
      },
      "source": [
        "range_param1 = RangeParameter(name='x1', lower=0.0, upper=10.0, parameter_type=ParameterType.FLOAT)\n",
        "range_param2 = RangeParameter(name='x2', lower=0.0, upper=10.0, parameter_type=ParameterType.FLOAT)\n",
        "\n",
        "search_space = SearchSpace(\n",
        "    parameters=[range_param1, range_param2]\n",
        ")"
      ],
      "execution_count": null,
      "outputs": []
    },
    {
      "cell_type": "markdown",
      "metadata": {
        "id": "DsD9CkU9MyD-"
      },
      "source": [
        "## 2. Define the experiment "
      ]
    },
    {
      "cell_type": "code",
      "metadata": {
        "id": "sjRkSuLwMxO6"
      },
      "source": [
        "experiment = Experiment(\n",
        "    name='experiment_building_blocks',\n",
        "    search_space=search_space\n",
        ")"
      ],
      "execution_count": null,
      "outputs": []
    },
    {
      "cell_type": "markdown",
      "metadata": {
        "id": "-44f5pF9OTZA"
      },
      "source": [
        "## 3. Generate Arms\n",
        "\n",
        "We can now generate arms, i.e. assignments of parameters to values, that lie within the search space. Below we use a Sobol generator to generate five quasi-random arms. The `Models` registry provides a set of standard models Ax contains."
      ]
    },
    {
      "cell_type": "code",
      "metadata": {
        "colab": {
          "base_uri": "https://localhost:8080/"
        },
        "id": "lbFamUkYOPkw",
        "outputId": "c4b04a4c-6be5-493d-c7cf-25e5d53513dd"
      },
      "source": [
        "sobol = Models.SOBOL(search_space=experiment.search_space)\n",
        "generator_run = sobol.gen(5)\n",
        "\n",
        "for arm in generator_run.arms:\n",
        "    print(arm)"
      ],
      "execution_count": null,
      "outputs": [
        {
          "output_type": "stream",
          "text": [
            "Arm(parameters={'x1': 5.87591290473938, 'x2': 0.7750853896141052})\n",
            "Arm(parameters={'x1': 1.9139529298990965, 'x2': 5.136057734489441})\n",
            "Arm(parameters={'x1': 3.9543073624372482, 'x2': 4.898538440465927})\n",
            "Arm(parameters={'x1': 7.643105583265424, 'x2': 9.288824377581477})\n",
            "Arm(parameters={'x1': 9.57068582996726, 'x2': 3.117052325978875})\n"
          ],
          "name": "stdout"
        }
      ]
    },
    {
      "cell_type": "markdown",
      "metadata": {
        "id": "3LrVrhcFQB9F"
      },
      "source": [
        "## 4. Define an optimization config with custom metrics\n",
        "\n",
        "In order to perform an optimization, we also need to define an optimization config for the experiment. An optimization config is composed of an objective metric to be minimized or maximized in the experiment, and optionally a set of outcome constraints that place restrictions on how other metrics can be moved by the experiment.\n",
        "\n",
        "In order to define an objective or outcome constraints, we first need to subclass `Metric`. Metrics are used to evaluate trials, which are individual steps of the experiment sequence. Each trial contains one or more arms for which we will collect data at the same time.\n",
        "\n",
        "Our custom metric(s) will determine how, given a trial, to compute the mean and SEM of each of the trial's arms.\n",
        "\n",
        "**TERMINOLOGIES:**\n",
        "* **Metric:** Interface for fetching data for a specific measurement on an experiment or trial.\n",
        "* **Objective:** The metric to be optimized, with an optimization direction (maximize/minimize).\n",
        "* **SEM:** Standard error fof the metric's mean, 0.0 for noiseless measurements. If no value is provided, defaults to `np.nan`, in which case Ax infers its value using the measurements collected during experimentation."
      ]
    },
    {
      "cell_type": "code",
      "metadata": {
        "id": "ihI7t2txPCU3"
      },
      "source": [
        "class BoothMetric(Metric):\n",
        "    def fetch_trial_data(self, trial):\n",
        "        records=[]\n",
        "        for arm_name, arm in trial.arms_by_name.items():\n",
        "            params = arm.parameters\n",
        "            records.append({\n",
        "                \"arm_name\": arm_name,\n",
        "                \"metric_name\": self.name,\n",
        "                \"mean\": (params[\"x1\"] + 2*params[\"x2\"] - 7)**2 + (2*params[\"x1\"] + params[\"x2\"] - 5)**2,\n",
        "                \"sem\": 0.0,\n",
        "                \"trial_index\": trial.index,\n",
        "            })\n",
        "        return Data(df=pd.DataFrame.from_records(records))"
      ],
      "execution_count": null,
      "outputs": []
    },
    {
      "cell_type": "code",
      "metadata": {
        "id": "dtW1OxBnVHSn"
      },
      "source": [
        "optimization_config = OptimizationConfig(\n",
        "    objective = Objective(\n",
        "        metric=BoothMetric(name=\"booth\"),\n",
        "        minimize=True\n",
        "    ),\n",
        ")\n",
        "\n",
        "experiment.optimization_config = optimization_config"
      ],
      "execution_count": null,
      "outputs": []
    },
    {
      "cell_type": "markdown",
      "metadata": {
        "id": "dGJ-ehTBWwOx"
      },
      "source": [
        "## 5. Define a runner\n",
        "\n",
        "Before an experiment can collect data, it must have a `Runner` attached. A runner handles the deployment of trials. A trial must be \"run\" before it can be evaluated.\n",
        "\n",
        "Here, we have a dummy runner that does nothing. In practice, a runner might be in charge of pushing an experiment to production."
      ]
    },
    {
      "cell_type": "code",
      "metadata": {
        "id": "CkB2xrb0Wl2H"
      },
      "source": [
        "class MyRunner(Runner):\n",
        "    def run(self, trial):\n",
        "        return {\"name\": str(trial.index)}\n",
        "\n",
        "experiment.runner = MyRunner()"
      ],
      "execution_count": null,
      "outputs": []
    },
    {
      "cell_type": "markdown",
      "metadata": {
        "id": "yTnUGeEJXmoc"
      },
      "source": [
        "## 6. Create a trial\n",
        "\n",
        "Now we can collect data for arms within our search space and begin the optimization. We do this by:\n",
        "1. Generating arms for an initial exploratory batch (already done above, using Sobol)\n",
        "2. Adding these arms to trial\n",
        "3. Running the trial\n",
        "4. Evaluating the trial\n",
        "5. Generating new arms based on the results, and repeating"
      ]
    },
    {
      "cell_type": "code",
      "metadata": {
        "colab": {
          "base_uri": "https://localhost:8080/"
        },
        "id": "LdSztEFVXXzg",
        "outputId": "4805fa83-3118-4c79-ab88-561dbb297709"
      },
      "source": [
        "experiment.new_batch_trial(generator_run=generator_run)"
      ],
      "execution_count": null,
      "outputs": [
        {
          "output_type": "execute_result",
          "data": {
            "text/plain": [
              "BatchTrial(experiment_name='experiment_building_blocks', index=0, status=TrialStatus.CANDIDATE)"
            ]
          },
          "metadata": {
            "tags": []
          },
          "execution_count": 50
        }
      ]
    },
    {
      "cell_type": "markdown",
      "metadata": {
        "id": "qofiXwQfZAsZ"
      },
      "source": [
        "Note that the arms attached to the trial are the same as those in the generator run above, except for the status quo, which is automatically added to each trial. This can be confirmed by using the following:"
      ]
    },
    {
      "cell_type": "code",
      "metadata": {
        "colab": {
          "base_uri": "https://localhost:8080/"
        },
        "id": "Ol4IJA2jY77W",
        "outputId": "03a9697b-8b57-43da-f820-3b8fc129ef6c"
      },
      "source": [
        "for arm in experiment.trials[0].arms:\n",
        "    print(arm)"
      ],
      "execution_count": null,
      "outputs": [
        {
          "output_type": "stream",
          "text": [
            "Arm(name='0_0', parameters={'x1': 5.87591290473938, 'x2': 0.7750853896141052})\n",
            "Arm(name='0_1', parameters={'x1': 1.9139529298990965, 'x2': 5.136057734489441})\n",
            "Arm(name='0_2', parameters={'x1': 3.9543073624372482, 'x2': 4.898538440465927})\n",
            "Arm(name='0_3', parameters={'x1': 7.643105583265424, 'x2': 9.288824377581477})\n",
            "Arm(name='0_4', parameters={'x1': 9.57068582996726, 'x2': 3.117052325978875})\n"
          ],
          "name": "stdout"
        }
      ]
    },
    {
      "cell_type": "markdown",
      "metadata": {
        "id": "3M0nxP4jZfQF"
      },
      "source": [
        "Check the values of the parameters in `generator_run` defined above and here are the same.\n",
        "\n",
        "If our trial should contain only one arm, we can use `experiment.new_trial` instead.\n",
        "\n",
        "```python\n",
        "    experiment.new_trial().add_arm(Arm(name='single_arm', parameters={'x1': 1, 'x2': 1}))\n",
        "```\n",
        "\n",
        "The arm then can be checked as follows:\n",
        "\n",
        "```python\n",
        "    print(experiment.trials[1].arm)\n",
        "```"
      ]
    },
    {
      "cell_type": "markdown",
      "metadata": {
        "id": "8UoCyra4atoM"
      },
      "source": [
        "## 7. Fetch Data\n",
        "\n",
        "To fetch trial data, we need to run it and mark it completed. For most metrics in Ax, data is only available once the status of the trial is `COMPLETED`, since in real-world scenarios, metrics can typically only be fetched after the trial finished running.\n",
        "\n",
        "NOTE: Metrics classes may implement the `is_available_while_running` method. When this method returns `True` data is available when trials are either `RUNNING` or `COMPLETED`. This can be used to obtain intermediate results from A/B test trials and other online experiments, or when metric values are available immediately, like in the case of synthetic problem metrics."
      ]
    },
    {
      "cell_type": "code",
      "metadata": {
        "colab": {
          "base_uri": "https://localhost:8080/"
        },
        "id": "SP1VLCMfZe86",
        "outputId": "bacef332-9d67-44c9-c54a-bef35f30d077"
      },
      "source": [
        "experiment.trials[0].run().mark_completed()"
      ],
      "execution_count": null,
      "outputs": [
        {
          "output_type": "execute_result",
          "data": {
            "text/plain": [
              "BatchTrial(experiment_name='experiment_building_blocks', index=0, status=TrialStatus.COMPLETED)"
            ]
          },
          "metadata": {
            "tags": []
          },
          "execution_count": 52
        }
      ]
    },
    {
      "cell_type": "code",
      "metadata": {
        "colab": {
          "base_uri": "https://localhost:8080/",
          "height": 203
        },
        "id": "9iXE58zvZbgU",
        "outputId": "83bbde5b-aef8-49b6-8a8a-d791908d7538"
      },
      "source": [
        "data = experiment.fetch_data()\n",
        "data.df"
      ],
      "execution_count": null,
      "outputs": [
        {
          "output_type": "execute_result",
          "data": {
            "text/html": [
              "<div>\n",
              "<style scoped>\n",
              "    .dataframe tbody tr th:only-of-type {\n",
              "        vertical-align: middle;\n",
              "    }\n",
              "\n",
              "    .dataframe tbody tr th {\n",
              "        vertical-align: top;\n",
              "    }\n",
              "\n",
              "    .dataframe thead th {\n",
              "        text-align: right;\n",
              "    }\n",
              "</style>\n",
              "<table border=\"1\" class=\"dataframe\">\n",
              "  <thead>\n",
              "    <tr style=\"text-align: right;\">\n",
              "      <th></th>\n",
              "      <th>arm_name</th>\n",
              "      <th>metric_name</th>\n",
              "      <th>mean</th>\n",
              "      <th>sem</th>\n",
              "      <th>trial_index</th>\n",
              "    </tr>\n",
              "  </thead>\n",
              "  <tbody>\n",
              "    <tr>\n",
              "      <th>0</th>\n",
              "      <td>0_0</td>\n",
              "      <td>booth</td>\n",
              "      <td>56.835940</td>\n",
              "      <td>0.0</td>\n",
              "      <td>0</td>\n",
              "    </tr>\n",
              "    <tr>\n",
              "      <th>1</th>\n",
              "      <td>0_1</td>\n",
              "      <td>booth</td>\n",
              "      <td>42.608313</td>\n",
              "      <td>0.0</td>\n",
              "      <td>0</td>\n",
              "    </tr>\n",
              "    <tr>\n",
              "      <th>2</th>\n",
              "      <td>0_2</td>\n",
              "      <td>booth</td>\n",
              "      <td>106.532830</td>\n",
              "      <td>0.0</td>\n",
              "      <td>0</td>\n",
              "    </tr>\n",
              "    <tr>\n",
              "      <th>3</th>\n",
              "      <td>0_3</td>\n",
              "      <td>booth</td>\n",
              "      <td>752.619414</td>\n",
              "      <td>0.0</td>\n",
              "      <td>0</td>\n",
              "    </tr>\n",
              "    <tr>\n",
              "      <th>4</th>\n",
              "      <td>0_4</td>\n",
              "      <td>booth</td>\n",
              "      <td>375.377534</td>\n",
              "      <td>0.0</td>\n",
              "      <td>0</td>\n",
              "    </tr>\n",
              "  </tbody>\n",
              "</table>\n",
              "</div>"
            ],
            "text/plain": [
              "  arm_name metric_name        mean  sem  trial_index\n",
              "0      0_0       booth   56.835940  0.0            0\n",
              "1      0_1       booth   42.608313  0.0            0\n",
              "2      0_2       booth  106.532830  0.0            0\n",
              "3      0_3       booth  752.619414  0.0            0\n",
              "4      0_4       booth  375.377534  0.0            0"
            ]
          },
          "metadata": {
            "tags": []
          },
          "execution_count": 53
        }
      ]
    },
    {
      "cell_type": "markdown",
      "metadata": {
        "id": "QGO01DdMerIp"
      },
      "source": [
        "## 8. Iterate using GP+EI\n",
        "\n",
        "Now we can model the data collected for the initial set of arms via Bayesian Optimization (using the BoTorch model default of Gaussian Process with Expected Improvement acquistion function) to determine the new arms for which to fetch data next."
      ]
    },
    {
      "cell_type": "code",
      "metadata": {
        "colab": {
          "base_uri": "https://localhost:8080/"
        },
        "id": "_TchJfSJcz86",
        "outputId": "1c932188-7c69-4b99-fb34-26f66dbdd5d9"
      },
      "source": [
        "gpei = Models.BOTORCH(experiment=experiment, data=data)\n",
        "generator_run = gpei.gen(5)\n",
        "experiment.new_batch_trial(generator_run=generator_run)"
      ],
      "execution_count": null,
      "outputs": [
        {
          "output_type": "execute_result",
          "data": {
            "text/plain": [
              "BatchTrial(experiment_name='experiment_building_blocks', index=1, status=TrialStatus.CANDIDATE)"
            ]
          },
          "metadata": {
            "tags": []
          },
          "execution_count": 54
        }
      ]
    },
    {
      "cell_type": "code",
      "metadata": {
        "colab": {
          "base_uri": "https://localhost:8080/"
        },
        "id": "RWc5AAdLfcXD",
        "outputId": "128d1c01-d97b-42ba-a824-4a4d8fd00ae4"
      },
      "source": [
        "for arm in experiment.trials[1].arms:\n",
        "    print(arm)"
      ],
      "execution_count": null,
      "outputs": [
        {
          "output_type": "stream",
          "text": [
            "Arm(name='1_0', parameters={'x1': 2.065329696796488, 'x2': 1.969113723313942})\n",
            "Arm(name='1_1', parameters={'x1': 0.0, 'x2': 7.654470729074037})\n",
            "Arm(name='1_2', parameters={'x1': 0.0, 'x2': 0.0})\n",
            "Arm(name='1_3', parameters={'x1': 0.0, 'x2': 3.3270942424052077})\n",
            "Arm(name='1_4', parameters={'x1': 3.234594058879759, 'x2': 0.0})\n"
          ],
          "name": "stdout"
        }
      ]
    },
    {
      "cell_type": "code",
      "metadata": {
        "colab": {
          "base_uri": "https://localhost:8080/",
          "height": 357
        },
        "id": "X71oTPKCfxzi",
        "outputId": "1120353b-f312-4508-bd22-eb96fe48d9b3"
      },
      "source": [
        "experiment.trials[1].run().mark_completed()\n",
        "data = experiment.fetch_data()\n",
        "data.df"
      ],
      "execution_count": null,
      "outputs": [
        {
          "output_type": "execute_result",
          "data": {
            "text/html": [
              "<div>\n",
              "<style scoped>\n",
              "    .dataframe tbody tr th:only-of-type {\n",
              "        vertical-align: middle;\n",
              "    }\n",
              "\n",
              "    .dataframe tbody tr th {\n",
              "        vertical-align: top;\n",
              "    }\n",
              "\n",
              "    .dataframe thead th {\n",
              "        text-align: right;\n",
              "    }\n",
              "</style>\n",
              "<table border=\"1\" class=\"dataframe\">\n",
              "  <thead>\n",
              "    <tr style=\"text-align: right;\">\n",
              "      <th></th>\n",
              "      <th>arm_name</th>\n",
              "      <th>metric_name</th>\n",
              "      <th>mean</th>\n",
              "      <th>sem</th>\n",
              "      <th>trial_index</th>\n",
              "    </tr>\n",
              "  </thead>\n",
              "  <tbody>\n",
              "    <tr>\n",
              "      <th>0</th>\n",
              "      <td>0_0</td>\n",
              "      <td>booth</td>\n",
              "      <td>56.835940</td>\n",
              "      <td>0.0</td>\n",
              "      <td>0</td>\n",
              "    </tr>\n",
              "    <tr>\n",
              "      <th>1</th>\n",
              "      <td>0_1</td>\n",
              "      <td>booth</td>\n",
              "      <td>42.608313</td>\n",
              "      <td>0.0</td>\n",
              "      <td>0</td>\n",
              "    </tr>\n",
              "    <tr>\n",
              "      <th>2</th>\n",
              "      <td>0_2</td>\n",
              "      <td>booth</td>\n",
              "      <td>106.532830</td>\n",
              "      <td>0.0</td>\n",
              "      <td>0</td>\n",
              "    </tr>\n",
              "    <tr>\n",
              "      <th>3</th>\n",
              "      <td>0_3</td>\n",
              "      <td>booth</td>\n",
              "      <td>752.619414</td>\n",
              "      <td>0.0</td>\n",
              "      <td>0</td>\n",
              "    </tr>\n",
              "    <tr>\n",
              "      <th>4</th>\n",
              "      <td>0_4</td>\n",
              "      <td>booth</td>\n",
              "      <td>375.377534</td>\n",
              "      <td>0.0</td>\n",
              "      <td>0</td>\n",
              "    </tr>\n",
              "    <tr>\n",
              "      <th>5</th>\n",
              "      <td>1_0</td>\n",
              "      <td>booth</td>\n",
              "      <td>2.202399</td>\n",
              "      <td>0.0</td>\n",
              "      <td>1</td>\n",
              "    </tr>\n",
              "    <tr>\n",
              "      <th>6</th>\n",
              "      <td>1_1</td>\n",
              "      <td>booth</td>\n",
              "      <td>76.084723</td>\n",
              "      <td>0.0</td>\n",
              "      <td>1</td>\n",
              "    </tr>\n",
              "    <tr>\n",
              "      <th>7</th>\n",
              "      <td>1_2</td>\n",
              "      <td>booth</td>\n",
              "      <td>74.000000</td>\n",
              "      <td>0.0</td>\n",
              "      <td>1</td>\n",
              "    </tr>\n",
              "    <tr>\n",
              "      <th>8</th>\n",
              "      <td>1_3</td>\n",
              "      <td>booth</td>\n",
              "      <td>2.918199</td>\n",
              "      <td>0.0</td>\n",
              "      <td>1</td>\n",
              "    </tr>\n",
              "    <tr>\n",
              "      <th>9</th>\n",
              "      <td>1_4</td>\n",
              "      <td>booth</td>\n",
              "      <td>16.336796</td>\n",
              "      <td>0.0</td>\n",
              "      <td>1</td>\n",
              "    </tr>\n",
              "  </tbody>\n",
              "</table>\n",
              "</div>"
            ],
            "text/plain": [
              "  arm_name metric_name        mean  sem  trial_index\n",
              "0      0_0       booth   56.835940  0.0            0\n",
              "1      0_1       booth   42.608313  0.0            0\n",
              "2      0_2       booth  106.532830  0.0            0\n",
              "3      0_3       booth  752.619414  0.0            0\n",
              "4      0_4       booth  375.377534  0.0            0\n",
              "5      1_0       booth    2.202399  0.0            1\n",
              "6      1_1       booth   76.084723  0.0            1\n",
              "7      1_2       booth   74.000000  0.0            1\n",
              "8      1_3       booth    2.918199  0.0            1\n",
              "9      1_4       booth   16.336796  0.0            1"
            ]
          },
          "metadata": {
            "tags": []
          },
          "execution_count": 56
        }
      ]
    },
    {
      "cell_type": "code",
      "metadata": {
        "colab": {
          "base_uri": "https://localhost:8080/",
          "height": 203
        },
        "id": "x1RirSqbgKMw",
        "outputId": "ea28650b-aa23-437e-890a-7d0a6934c3cd"
      },
      "source": [
        "data = experiment.fetch_trials_data(trial_indices=range(1, 2))\n",
        "data.df"
      ],
      "execution_count": null,
      "outputs": [
        {
          "output_type": "execute_result",
          "data": {
            "text/html": [
              "<div>\n",
              "<style scoped>\n",
              "    .dataframe tbody tr th:only-of-type {\n",
              "        vertical-align: middle;\n",
              "    }\n",
              "\n",
              "    .dataframe tbody tr th {\n",
              "        vertical-align: top;\n",
              "    }\n",
              "\n",
              "    .dataframe thead th {\n",
              "        text-align: right;\n",
              "    }\n",
              "</style>\n",
              "<table border=\"1\" class=\"dataframe\">\n",
              "  <thead>\n",
              "    <tr style=\"text-align: right;\">\n",
              "      <th></th>\n",
              "      <th>arm_name</th>\n",
              "      <th>metric_name</th>\n",
              "      <th>mean</th>\n",
              "      <th>sem</th>\n",
              "      <th>trial_index</th>\n",
              "    </tr>\n",
              "  </thead>\n",
              "  <tbody>\n",
              "    <tr>\n",
              "      <th>0</th>\n",
              "      <td>1_0</td>\n",
              "      <td>booth</td>\n",
              "      <td>2.202399</td>\n",
              "      <td>0.0</td>\n",
              "      <td>1</td>\n",
              "    </tr>\n",
              "    <tr>\n",
              "      <th>1</th>\n",
              "      <td>1_1</td>\n",
              "      <td>booth</td>\n",
              "      <td>76.084723</td>\n",
              "      <td>0.0</td>\n",
              "      <td>1</td>\n",
              "    </tr>\n",
              "    <tr>\n",
              "      <th>2</th>\n",
              "      <td>1_2</td>\n",
              "      <td>booth</td>\n",
              "      <td>74.000000</td>\n",
              "      <td>0.0</td>\n",
              "      <td>1</td>\n",
              "    </tr>\n",
              "    <tr>\n",
              "      <th>3</th>\n",
              "      <td>1_3</td>\n",
              "      <td>booth</td>\n",
              "      <td>2.918199</td>\n",
              "      <td>0.0</td>\n",
              "      <td>1</td>\n",
              "    </tr>\n",
              "    <tr>\n",
              "      <th>4</th>\n",
              "      <td>1_4</td>\n",
              "      <td>booth</td>\n",
              "      <td>16.336796</td>\n",
              "      <td>0.0</td>\n",
              "      <td>1</td>\n",
              "    </tr>\n",
              "  </tbody>\n",
              "</table>\n",
              "</div>"
            ],
            "text/plain": [
              "  arm_name metric_name       mean  sem  trial_index\n",
              "0      1_0       booth   2.202399  0.0            1\n",
              "1      1_1       booth  76.084723  0.0            1\n",
              "2      1_2       booth  74.000000  0.0            1\n",
              "3      1_3       booth   2.918199  0.0            1\n",
              "4      1_4       booth  16.336796  0.0            1"
            ]
          },
          "metadata": {
            "tags": []
          },
          "execution_count": 57
        }
      ]
    },
    {
      "cell_type": "code",
      "metadata": {
        "id": "Al7qK431hg6Z"
      },
      "source": [
        ""
      ],
      "execution_count": null,
      "outputs": []
    }
  ]
}