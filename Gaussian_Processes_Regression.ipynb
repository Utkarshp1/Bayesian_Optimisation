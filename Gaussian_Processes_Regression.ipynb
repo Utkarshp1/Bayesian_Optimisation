{
  "nbformat": 4,
  "nbformat_minor": 0,
  "metadata": {
    "colab": {
      "name": "Gaussian_Processes_Regression.ipynb",
      "provenance": [],
      "authorship_tag": "ABX9TyPXp5MSyMWOZ3KnEp0HOcSx",
      "include_colab_link": true
    },
    "kernelspec": {
      "name": "python3",
      "display_name": "Python 3"
    },
    "language_info": {
      "name": "python"
    }
  },
  "cells": [
    {
      "cell_type": "markdown",
      "metadata": {
        "id": "view-in-github",
        "colab_type": "text"
      },
      "source": [
        "<a href=\"https://colab.research.google.com/github/Utkarshp1/Bayesian_Optimisation/blob/master/Gaussian_Processes_Regression.ipynb\" target=\"_parent\"><img src=\"https://colab.research.google.com/assets/colab-badge.svg\" alt=\"Open In Colab\"/></a>"
      ]
    },
    {
      "cell_type": "markdown",
      "metadata": {
        "id": "BCZ7FAV3Cb6M"
      },
      "source": [
        "# Gaussian Process Regression using GPytorch"
      ]
    },
    {
      "cell_type": "code",
      "metadata": {
        "colab": {
          "base_uri": "https://localhost:8080/"
        },
        "id": "0pBAbEAs-DiL",
        "outputId": "333ddee8-5e29-433b-d942-14bf34d8d63b"
      },
      "source": [
        "!pip install gpytorch"
      ],
      "execution_count": 2,
      "outputs": [
        {
          "output_type": "stream",
          "text": [
            "Collecting gpytorch\n",
            "\u001b[?25l  Downloading https://files.pythonhosted.org/packages/96/6d/07f4c15c1a117f6aa8ae88e23d82681fc6564c80ca18966a2c63af2559ac/gpytorch-1.4.2-py2.py3-none-any.whl (492kB)\n",
            "\u001b[K     |████████████████████████████████| 501kB 4.6MB/s \n",
            "\u001b[?25hRequirement already satisfied: scipy in /usr/local/lib/python3.7/dist-packages (from gpytorch) (1.4.1)\n",
            "Requirement already satisfied: torch>=1.7 in /usr/local/lib/python3.7/dist-packages (from gpytorch) (1.9.0+cu102)\n",
            "Requirement already satisfied: scikit-learn in /usr/local/lib/python3.7/dist-packages (from gpytorch) (0.22.2.post1)\n",
            "Requirement already satisfied: numpy>=1.13.3 in /usr/local/lib/python3.7/dist-packages (from scipy->gpytorch) (1.19.5)\n",
            "Requirement already satisfied: typing-extensions in /usr/local/lib/python3.7/dist-packages (from torch>=1.7->gpytorch) (3.7.4.3)\n",
            "Requirement already satisfied: joblib>=0.11 in /usr/local/lib/python3.7/dist-packages (from scikit-learn->gpytorch) (1.0.1)\n",
            "Installing collected packages: gpytorch\n",
            "Successfully installed gpytorch-1.4.2\n"
          ],
          "name": "stdout"
        }
      ]
    },
    {
      "cell_type": "code",
      "metadata": {
        "id": "cm4_17Oo8lHK"
      },
      "source": [
        "import math\n",
        "import torch\n",
        "import gpytorch\n",
        "from matplotlib import pyplot as plt\n",
        "\n",
        "%matplotlib inline\n",
        "%load_ext autoreload\n",
        "%autoreload 2"
      ],
      "execution_count": 3,
      "outputs": []
    },
    {
      "cell_type": "markdown",
      "metadata": {
        "id": "rSfoTaq3-O_c"
      },
      "source": [
        "Train an RBF kernel Gaussian process on a simple function. We'll be modelling the function <br />\n",
        "$$ y = sin(2\\pi x) + \\epsilon $$\n",
        "$$ \\epsilon \\stackrel{}{\\sim} \\mathcal{N}(0, 0.04) $$"
      ]
    },
    {
      "cell_type": "code",
      "metadata": {
        "id": "j4HUTSSE-N4Q"
      },
      "source": [
        "X_train = torch.linspace(0, 1, 100)\n",
        "y_train = torch.sin(X_train * (2*math.pi)) + torch.randn(X_train.size())*math.sqrt(0.04)\n",
        "\n",
        "X_test = torch.linspace(0, 1, 51)\n",
        "y_test = torch.sin(X_test * (2*math.pi)) + torch.randn(X_test.size())*math.sqrt(0.04)"
      ],
      "execution_count": 10,
      "outputs": []
    },
    {
      "cell_type": "markdown",
      "metadata": {
        "id": "NZMn0mQbCi56"
      },
      "source": [
        "## Model Definition"
      ]
    },
    {
      "cell_type": "code",
      "metadata": {
        "id": "zLFTrvojASNh"
      },
      "source": [
        "# We will use the simplest form of GP model, exact inference\n",
        "class ExactGPModel(gpytorch.models.ExactGP):\n",
        "    def __init__(self, X_train, y_train, likelihood):\n",
        "        super(ExactGPModel, self).__init__(X_train, y_train, likelihood)\n",
        "        self.mean_module = gpytorch.means.ConstantMean()\n",
        "        self.covar_module = gpytorch.kernels.ScaleKernel(gpytorch.kernels.RBFKernel())\n",
        "\n",
        "    def forward(self, x):\n",
        "        mean_x = self.mean_module(x)\n",
        "        covar_x = self.covar_module(x)\n",
        "        return gpytorch.distributions.MultivariateNormal(mean_x, covar_x)\n",
        "\n",
        "# Initialize likelihood and model\n",
        "likelihood = gpytorch.likelihoods.GaussianLikelihood()\n",
        "model = ExactGPModel(X_train, y_train, likelihood)"
      ],
      "execution_count": 13,
      "outputs": []
    },
    {
      "cell_type": "markdown",
      "metadata": {
        "id": "gZYhv7pnCY2r"
      },
      "source": [
        "## Training Loop"
      ]
    },
    {
      "cell_type": "code",
      "metadata": {
        "colab": {
          "base_uri": "https://localhost:8080/"
        },
        "id": "nqZxDCTYAUJn",
        "outputId": "ce57f676-5dab-4ec9-fbbc-f0de2d5dd81b"
      },
      "source": [
        "training_iter = 50\n",
        "\n",
        "# Find optimal model hyperparameters\n",
        "model.train()\n",
        "likelihood.train()\n",
        "\n",
        "# Use Adam optimizer\n",
        "optimizer = torch.optim.Adam(model.parameters(), lr=0.1) # Includes GaussianLikelihood parameters\n",
        "\n",
        "# \"loss\" for GPs - the marginal log likelihood\n",
        "mll = gpytorch.mlls.ExactMarginalLogLikelihood(likelihood, model)\n",
        "\n",
        "for i in range(training_iter):\n",
        "    # Zero gradients from previous iteration\n",
        "    optimizer.zero_grad()\n",
        "    # Output from model\n",
        "    output = model(X_train)\n",
        "    # Calculate loss and backpropagate gradients\n",
        "    loss = -mll(output, y_train)\n",
        "    loss.backward()\n",
        "    print('Iter %d/%d - Loss: %.3f  lengthscale: %.3f   noise: %.3f' % (\n",
        "        i+1, training_iter, loss.item(),\n",
        "        model.covar_module.base_kernel.lengthscale.item(),\n",
        "        model.likelihood.noise.item()\n",
        "    ))\n",
        "    optimizer.step()"
      ],
      "execution_count": 14,
      "outputs": [
        {
          "output_type": "stream",
          "text": [
            "Iter 1/50 - Loss: 0.944  lengthscale: 0.693   noise: 0.693\n",
            "Iter 2/50 - Loss: 0.913  lengthscale: 0.644   noise: 0.644\n",
            "Iter 3/50 - Loss: 0.879  lengthscale: 0.598   noise: 0.598\n",
            "Iter 4/50 - Loss: 0.842  lengthscale: 0.555   noise: 0.554\n",
            "Iter 5/50 - Loss: 0.799  lengthscale: 0.514   noise: 0.513\n",
            "Iter 6/50 - Loss: 0.751  lengthscale: 0.475   noise: 0.474\n",
            "Iter 7/50 - Loss: 0.699  lengthscale: 0.439   noise: 0.437\n",
            "Iter 8/50 - Loss: 0.646  lengthscale: 0.405   noise: 0.402\n",
            "Iter 9/50 - Loss: 0.595  lengthscale: 0.372   noise: 0.369\n",
            "Iter 10/50 - Loss: 0.548  lengthscale: 0.342   noise: 0.339\n",
            "Iter 11/50 - Loss: 0.505  lengthscale: 0.315   noise: 0.310\n",
            "Iter 12/50 - Loss: 0.465  lengthscale: 0.291   noise: 0.284\n",
            "Iter 13/50 - Loss: 0.428  lengthscale: 0.270   noise: 0.259\n",
            "Iter 14/50 - Loss: 0.393  lengthscale: 0.253   noise: 0.236\n",
            "Iter 15/50 - Loss: 0.359  lengthscale: 0.239   noise: 0.215\n",
            "Iter 16/50 - Loss: 0.326  lengthscale: 0.228   noise: 0.196\n",
            "Iter 17/50 - Loss: 0.293  lengthscale: 0.219   noise: 0.178\n",
            "Iter 18/50 - Loss: 0.260  lengthscale: 0.213   noise: 0.162\n",
            "Iter 19/50 - Loss: 0.227  lengthscale: 0.209   noise: 0.147\n",
            "Iter 20/50 - Loss: 0.195  lengthscale: 0.207   noise: 0.134\n",
            "Iter 21/50 - Loss: 0.163  lengthscale: 0.206   noise: 0.121\n",
            "Iter 22/50 - Loss: 0.132  lengthscale: 0.207   noise: 0.110\n",
            "Iter 23/50 - Loss: 0.102  lengthscale: 0.210   noise: 0.100\n",
            "Iter 24/50 - Loss: 0.073  lengthscale: 0.214   noise: 0.091\n",
            "Iter 25/50 - Loss: 0.046  lengthscale: 0.219   noise: 0.083\n",
            "Iter 26/50 - Loss: 0.021  lengthscale: 0.225   noise: 0.076\n",
            "Iter 27/50 - Loss: -0.002  lengthscale: 0.232   noise: 0.069\n",
            "Iter 28/50 - Loss: -0.023  lengthscale: 0.240   noise: 0.063\n",
            "Iter 29/50 - Loss: -0.040  lengthscale: 0.249   noise: 0.058\n",
            "Iter 30/50 - Loss: -0.055  lengthscale: 0.258   noise: 0.053\n",
            "Iter 31/50 - Loss: -0.066  lengthscale: 0.267   noise: 0.049\n",
            "Iter 32/50 - Loss: -0.073  lengthscale: 0.275   noise: 0.045\n",
            "Iter 33/50 - Loss: -0.077  lengthscale: 0.283   noise: 0.042\n",
            "Iter 34/50 - Loss: -0.078  lengthscale: 0.289   noise: 0.039\n",
            "Iter 35/50 - Loss: -0.076  lengthscale: 0.293   noise: 0.037\n",
            "Iter 36/50 - Loss: -0.074  lengthscale: 0.295   noise: 0.035\n",
            "Iter 37/50 - Loss: -0.071  lengthscale: 0.293   noise: 0.033\n",
            "Iter 38/50 - Loss: -0.069  lengthscale: 0.290   noise: 0.032\n",
            "Iter 39/50 - Loss: -0.066  lengthscale: 0.284   noise: 0.030\n",
            "Iter 40/50 - Loss: -0.064  lengthscale: 0.278   noise: 0.030\n",
            "Iter 41/50 - Loss: -0.062  lengthscale: 0.271   noise: 0.029\n",
            "Iter 42/50 - Loss: -0.060  lengthscale: 0.264   noise: 0.029\n",
            "Iter 43/50 - Loss: -0.060  lengthscale: 0.258   noise: 0.028\n",
            "Iter 44/50 - Loss: -0.059  lengthscale: 0.252   noise: 0.028\n",
            "Iter 45/50 - Loss: -0.060  lengthscale: 0.247   noise: 0.029\n",
            "Iter 46/50 - Loss: -0.062  lengthscale: 0.244   noise: 0.029\n",
            "Iter 47/50 - Loss: -0.064  lengthscale: 0.241   noise: 0.029\n",
            "Iter 48/50 - Loss: -0.066  lengthscale: 0.240   noise: 0.030\n",
            "Iter 49/50 - Loss: -0.069  lengthscale: 0.240   noise: 0.031\n",
            "Iter 50/50 - Loss: -0.072  lengthscale: 0.240   noise: 0.032\n"
          ],
          "name": "stdout"
        }
      ]
    },
    {
      "cell_type": "markdown",
      "metadata": {
        "id": "CRh9F50kFMh5"
      },
      "source": [
        "## Make predictions with the model"
      ]
    },
    {
      "cell_type": "code",
      "metadata": {
        "id": "ULtcOUvgETX6"
      },
      "source": [
        "f_preds = model(X_test)\n",
        "y_preds = likelihood(model(X_test))\n",
        "\n",
        "f_mean = f_preds.mean\n",
        "f_var = f_preds.variance\n",
        "f_covar = f_preds.covariance_matrix\n",
        "f_samples = f_preds.sample(sample_shape=torch.Size(1000,))"
      ],
      "execution_count": null,
      "outputs": []
    },
    {
      "cell_type": "code",
      "metadata": {
        "id": "39uCHZQ1FsX4"
      },
      "source": [
        "# Get into evaluation (predictive posterior) mode\n",
        "model.eval()\n",
        "likelihood.eval()\n",
        "\n",
        "# Test points are regularly spaced along [0,1]\n",
        "# Make predictions by feeding model through likelihood\n",
        "with torch.no_grad(), gpytorch.settings.fast_pred_var():\n",
        "    X_test = torch.linspace(0, 1, 51)\n",
        "    observed_pred = likelihood(model(X_test))"
      ],
      "execution_count": 16,
      "outputs": []
    },
    {
      "cell_type": "code",
      "metadata": {
        "colab": {
          "base_uri": "https://localhost:8080/",
          "height": 215
        },
        "id": "PjsN4fLSH64i",
        "outputId": "b17b936e-2490-4c92-9cd9-2fea939e63f6"
      },
      "source": [
        "with torch.no_grad():\n",
        "    # Initialize plot\n",
        "    f, ax = plt.subplots(1, 1, figsize=(4, 3))\n",
        "\n",
        "    # Get upper and lower confidence bounds\n",
        "    lower, upper = observed_pred.confidence_region()\n",
        "    # Plot training data as black stars\n",
        "    ax.plot(X_train.numpy(), y_train.numpy(), '*')\n",
        "    # Plot predictive means as blue line\n",
        "    ax.plot(X_test.numpy(), observed_pred.mean.numpy(), 'b')\n",
        "    # Shade between the lower and upper confidence bounds\n",
        "    ax.fill_between(X_test.numpy(), lower.numpy(), upper.numpy(), alpha=0.5)\n",
        "    ax.set_ylim([-3, 3])\n",
        "    ax.legend(['Observed Data', 'Mean', 'Confidence'])"
      ],
      "execution_count": 17,
      "outputs": [
        {
          "output_type": "display_data",
          "data": {
            "image/png": "[encoded data removed]",
            "text/plain": [
              "<Figure size 288x216 with 1 Axes>"
            ]
          },
          "metadata": {
            "tags": [],
            "needs_background": "light"
          }
        }
      ]
    },
    {
      "cell_type": "code",
      "metadata": {
        "id": "E3F9BgpZIKlU"
      },
      "source": [
        ""
      ],
      "execution_count": null,
      "outputs": []
    }
  ]
}