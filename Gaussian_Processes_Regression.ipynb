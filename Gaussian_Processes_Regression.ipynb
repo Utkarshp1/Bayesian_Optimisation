{
  "nbformat": 4,
  "nbformat_minor": 0,
  "metadata": {
    "colab": {
      "name": "Gaussian_Processes_Regression.ipynb",
      "provenance": [],
      "collapsed_sections": [],
      "authorship_tag": "ABX9TyOqYoJ6TE6en3U7WMHimzZl",
      "include_colab_link": true
    },
    "kernelspec": {
      "name": "python3",
      "display_name": "Python 3"
    },
    "language_info": {
      "name": "python"
    }
  },
  "cells": [
    {
      "cell_type": "markdown",
      "metadata": {
        "id": "view-in-github",
        "colab_type": "text"
      },
      "source": [
        "<a href=\"https://colab.research.google.com/github/Utkarshp1/Bayesian_Optimisation/blob/master/Gaussian_Processes_Regression.ipynb\" target=\"_parent\"><img src=\"https://colab.research.google.com/assets/colab-badge.svg\" alt=\"Open In Colab\"/></a>"
      ]
    },
    {
      "cell_type": "markdown",
      "metadata": {
        "id": "BCZ7FAV3Cb6M"
      },
      "source": [
        "# Gaussian Process Regression using GPytorch"
      ]
    },
    {
      "cell_type": "code",
      "metadata": {
        "colab": {
          "base_uri": "https://localhost:8080/"
        },
        "id": "0pBAbEAs-DiL",
        "outputId": "ab12b5bd-d554-4191-daf3-8b47a6f84e69"
      },
      "source": [
        "!pip install gpytorch"
      ],
      "execution_count": 1,
      "outputs": [
        {
          "output_type": "stream",
          "text": [
            "Collecting gpytorch\n",
            "\u001b[?25l  Downloading https://files.pythonhosted.org/packages/4a/fa/b6db02ee0e98e89752bdae11534034251bc08317cdc325dd1878732b152d/gpytorch-1.5.0-py2.py3-none-any.whl (498kB)\n",
            "\u001b[K     |████████████████████████████████| 501kB 6.8MB/s \n",
            "\u001b[?25hRequirement already satisfied: scikit-learn in /usr/local/lib/python3.7/dist-packages (from gpytorch) (0.22.2.post1)\n",
            "Requirement already satisfied: torch>=1.8.1 in /usr/local/lib/python3.7/dist-packages (from gpytorch) (1.9.0+cu102)\n",
            "Requirement already satisfied: scipy in /usr/local/lib/python3.7/dist-packages (from gpytorch) (1.4.1)\n",
            "Requirement already satisfied: numpy>=1.11.0 in /usr/local/lib/python3.7/dist-packages (from scikit-learn->gpytorch) (1.19.5)\n",
            "Requirement already satisfied: joblib>=0.11 in /usr/local/lib/python3.7/dist-packages (from scikit-learn->gpytorch) (1.0.1)\n",
            "Requirement already satisfied: typing-extensions in /usr/local/lib/python3.7/dist-packages (from torch>=1.8.1->gpytorch) (3.7.4.3)\n",
            "Installing collected packages: gpytorch\n",
            "Successfully installed gpytorch-1.5.0\n"
          ],
          "name": "stdout"
        }
      ]
    },
    {
      "cell_type": "code",
      "metadata": {
        "id": "cm4_17Oo8lHK"
      },
      "source": [
        "import math\n",
        "import torch\n",
        "import numpy as np\n",
        "import gpytorch\n",
        "from matplotlib import pyplot as plt\n",
        "\n",
        "%matplotlib inline\n",
        "%load_ext autoreload\n",
        "%autoreload 2"
      ],
      "execution_count": 2,
      "outputs": []
    },
    {
      "cell_type": "markdown",
      "metadata": {
        "id": "rSfoTaq3-O_c"
      },
      "source": [
        "Train an RBF kernel Gaussian process on a simple function. We'll be modelling the function <br />\n",
        "$$ y = sin(2\\pi x) + \\epsilon $$\n",
        "$$ \\epsilon \\stackrel{}{\\sim} \\mathcal{N}(0, 0.04) $$"
      ]
    },
    {
      "cell_type": "code",
      "metadata": {
        "id": "j4HUTSSE-N4Q"
      },
      "source": [
        "X_train = torch.linspace(0, 1, 10)\n",
        "y_train = torch.sin(X_train * (2*math.pi)) + torch.randn(X_train.size())*math.sqrt(0.04)"
      ],
      "execution_count": 16,
      "outputs": []
    },
    {
      "cell_type": "code",
      "metadata": {
        "id": "P4YMugaMoiUW"
      },
      "source": [
        "# X's which will be used for sampling and plotting the sampled function\n",
        "plotting_x = torch.linspace(-0.5, 1.5, 10000)"
      ],
      "execution_count": 17,
      "outputs": []
    },
    {
      "cell_type": "markdown",
      "metadata": {
        "id": "NZMn0mQbCi56"
      },
      "source": [
        "## Model Definition"
      ]
    },
    {
      "cell_type": "code",
      "metadata": {
        "id": "zLFTrvojASNh"
      },
      "source": [
        "# We will use the simplest form of GP model, exact inference\n",
        "class ExactGPModel(gpytorch.models.ExactGP):\n",
        "    def __init__(self, X_train, y_train, likelihood):\n",
        "        super(ExactGPModel, self).__init__(X_train, y_train, likelihood)\n",
        "        self.mean_module = gpytorch.means.ConstantMean()\n",
        "        self.rbf_kernel = gpytorch.kernels.RBFKernel() \n",
        "        self.covar_module = gpytorch.kernels.ScaleKernel(self.rbf_kernel)\n",
        "\n",
        "    def forward(self, x):\n",
        "        mean_x = self.mean_module(x)\n",
        "        covar_x = self.covar_module(x)\n",
        "        return gpytorch.distributions.MultivariateNormal(mean_x, covar_x)\n",
        "\n",
        "# Initialize likelihood and model\n",
        "likelihood = gpytorch.likelihoods.GaussianLikelihood()\n",
        "model = ExactGPModel(X_train, y_train, likelihood)"
      ],
      "execution_count": 22,
      "outputs": []
    },
    {
      "cell_type": "code",
      "metadata": {
        "id": "VjreikoRXvPf"
      },
      "source": [
        "# Initial value of the lengthscale paramter of the Kernel = 1\n",
        "model.rbf_kernel.has_lengthscale = True\n",
        "model.rbf_kernel.lengthscale = torch.tensor(0.1)"
      ],
      "execution_count": 23,
      "outputs": []
    },
    {
      "cell_type": "markdown",
      "metadata": {
        "id": "6Cwm3y9HuIua"
      },
      "source": [
        "**INTERLUDE: Calculating the value of kernel**\n",
        "\n",
        "```python\n",
        "    tensor = torch.tensor([1, 2])\n",
        "    lazy_evaluate = model.rbf_kernel(tensor1)\n",
        "    tensor_evluated = lazy_evaluate.evaluate()\n",
        "```"
      ]
    },
    {
      "cell_type": "markdown",
      "metadata": {
        "id": "WVeAHlaJvZMp"
      },
      "source": [
        "## Prior Distribution and Sampling from Prior"
      ]
    },
    {
      "cell_type": "code",
      "metadata": {
        "colab": {
          "base_uri": "https://localhost:8080/"
        },
        "id": "I2DlQFKzRRpw",
        "outputId": "992f72a2-d1d1-4e53-c94e-f198d7bc9659"
      },
      "source": [
        "# Getting the prior probability\n",
        "prior = model.forward(plotting_x)\n",
        "print(type(prior))\n",
        "\n",
        "# Getting 2 sample function from the prior distribution\n",
        "prior_samples = prior.rsample(sample_shape=torch.Size([2]))\n",
        "prior_samples.shape"
      ],
      "execution_count": 24,
      "outputs": [
        {
          "output_type": "stream",
          "text": [
            "<class 'gpytorch.distributions.multivariate_normal.MultivariateNormal'>\n"
          ],
          "name": "stdout"
        },
        {
          "output_type": "execute_result",
          "data": {
            "text/plain": [
              "torch.Size([2, 10000])"
            ]
          },
          "metadata": {
            "tags": []
          },
          "execution_count": 24
        }
      ]
    },
    {
      "cell_type": "code",
      "metadata": {
        "colab": {
          "base_uri": "https://localhost:8080/",
          "height": 265
        },
        "id": "3FP6LCJZU10N",
        "outputId": "0ffd6ea3-cea3-43b9-9412-0765b55d7e04"
      },
      "source": [
        "# plotting the sampled functions\n",
        "plt.figure()\n",
        "for i in range(2):\n",
        "    plt.plot(plotting_x, prior_samples[i, :].detach().numpy())\n",
        "plt.show()"
      ],
      "execution_count": 25,
      "outputs": [
        {
          "output_type": "display_data",
          "data": {
            "image/png": "[encoded data removed]",
            "text/plain": [
              "<Figure size 432x288 with 1 Axes>"
            ]
          },
          "metadata": {
            "tags": [],
            "needs_background": "light"
          }
        }
      ]
    },
    {
      "cell_type": "code",
      "metadata": {
        "colab": {
          "base_uri": "https://localhost:8080/"
        },
        "id": "0DkbiMj0zAp1",
        "outputId": "639689df-44fe-44d6-ba4b-9d46ba348c5c"
      },
      "source": [
        "# Getting the 95% confidence interval for the function value\n",
        "ci = prior.confidence_region()\n",
        "ci[0].shape, ci[1].shape"
      ],
      "execution_count": 26,
      "outputs": [
        {
          "output_type": "execute_result",
          "data": {
            "text/plain": [
              "(torch.Size([10000]), torch.Size([10000]))"
            ]
          },
          "metadata": {
            "tags": []
          },
          "execution_count": 26
        }
      ]
    },
    {
      "cell_type": "code",
      "metadata": {
        "colab": {
          "base_uri": "https://localhost:8080/",
          "height": 265
        },
        "id": "gMqcymcaywe-",
        "outputId": "6de9ae81-d996-408c-d824-54d6c2980b25"
      },
      "source": [
        "# Plotting the 95% confidence interval with the mean for the function value\n",
        "with torch.no_grad():\n",
        "    plt.figure()\n",
        "    plt.plot(plotting_x, prior.mean.numpy())\n",
        "    plt.fill_between(plotting_x, ci[0].numpy(), ci[1].numpy(), alpha=0.5)\n",
        "    plt.xlim()\n",
        "    plt.show()"
      ],
      "execution_count": 27,
      "outputs": [
        {
          "output_type": "display_data",
          "data": {
            "image/png": "[encoded data removed]",
            "text/plain": [
              "<Figure size 432x288 with 1 Axes>"
            ]
          },
          "metadata": {
            "tags": [],
            "needs_background": "light"
          }
        }
      ]
    },
    {
      "cell_type": "markdown",
      "metadata": {
        "id": "gZYhv7pnCY2r"
      },
      "source": [
        "## Training Loop"
      ]
    },
    {
      "cell_type": "code",
      "metadata": {
        "colab": {
          "base_uri": "https://localhost:8080/"
        },
        "id": "nqZxDCTYAUJn",
        "outputId": "3665844b-40bb-457f-cf5a-4b18201ab648"
      },
      "source": [
        "training_iter = 20\n",
        "\n",
        "# Find optimal model hyperparameters\n",
        "model.train()\n",
        "likelihood.train()\n",
        "\n",
        "# Use Adam optimizer\n",
        "optimizer = torch.optim.Adam(model.parameters(), lr=1) # Includes GaussianLikelihood parameters\n",
        "\n",
        "# \"loss\" for GPs - the marginal log likelihood\n",
        "mll = gpytorch.mlls.ExactMarginalLogLikelihood(likelihood, model)\n",
        "\n",
        "for i in range(training_iter):\n",
        "    # Zero gradients from previous iteration\n",
        "    optimizer.zero_grad()\n",
        "    # Output from model\n",
        "    output = model(X_train)\n",
        "    # Calculate loss and backpropagate gradients\n",
        "    loss = -mll(output, y_train)\n",
        "    loss.backward()\n",
        "    print('Iter %d/%d - Loss: %.3f  lengthscale: %.3f   noise: %.3f' % (\n",
        "        i+1, training_iter, loss.item(),\n",
        "        model.covar_module.base_kernel.lengthscale.item(),\n",
        "        model.likelihood.noise.item()\n",
        "    ))\n",
        "    optimizer.step()"
      ],
      "execution_count": 28,
      "outputs": [
        {
          "output_type": "stream",
          "text": [
            "Iter 1/20 - Loss: 1.216  lengthscale: 0.100   noise: 0.693\n",
            "Iter 2/20 - Loss: 1.197  lengthscale: 0.251   noise: 0.313\n",
            "Iter 3/20 - Loss: 1.269  lengthscale: 0.537   noise: 0.130\n",
            "Iter 4/20 - Loss: 0.964  lengthscale: 0.381   noise: 0.167\n",
            "Iter 5/20 - Loss: 0.954  lengthscale: 0.218   noise: 0.198\n",
            "Iter 6/20 - Loss: 1.105  lengthscale: 0.151   noise: 0.195\n",
            "Iter 7/20 - Loss: 1.121  lengthscale: 0.138   noise: 0.171\n",
            "Iter 8/20 - Loss: 1.012  lengthscale: 0.158   noise: 0.137\n",
            "Iter 9/20 - Loss: 0.861  lengthscale: 0.205   noise: 0.102\n",
            "Iter 10/20 - Loss: 0.761  lengthscale: 0.282   noise: 0.072\n",
            "Iter 11/20 - Loss: 0.890  lengthscale: 0.373   noise: 0.051\n",
            "Iter 12/20 - Loss: 0.850  lengthscale: 0.339   noise: 0.041\n",
            "Iter 13/20 - Loss: 0.812  lengthscale: 0.267   noise: 0.037\n",
            "Iter 14/20 - Loss: 0.812  lengthscale: 0.210   noise: 0.038\n",
            "Iter 15/20 - Loss: 0.828  lengthscale: 0.170   noise: 0.040\n",
            "Iter 16/20 - Loss: 0.839  lengthscale: 0.147   noise: 0.040\n",
            "Iter 17/20 - Loss: 0.801  lengthscale: 0.143   noise: 0.038\n",
            "Iter 18/20 - Loss: 0.740  lengthscale: 0.153   noise: 0.034\n",
            "Iter 19/20 - Loss: 0.739  lengthscale: 0.167   noise: 0.030\n",
            "Iter 20/20 - Loss: 0.786  lengthscale: 0.172   noise: 0.026\n"
          ],
          "name": "stdout"
        }
      ]
    },
    {
      "cell_type": "markdown",
      "metadata": {
        "id": "CRh9F50kFMh5"
      },
      "source": [
        "## Make predictions with the model"
      ]
    },
    {
      "cell_type": "code",
      "metadata": {
        "colab": {
          "base_uri": "https://localhost:8080/"
        },
        "id": "5d66GRdlq78o",
        "outputId": "b3572f32-83b0-4d83-d6e3-d1c5abc1d0a6"
      },
      "source": [
        "# Switch on the evaluation mode to get the predictions\n",
        "model.eval()\n",
        "likelihood.eval()"
      ],
      "execution_count": 29,
      "outputs": [
        {
          "output_type": "execute_result",
          "data": {
            "text/plain": [
              "GaussianLikelihood(\n",
              "  (noise_covar): HomoskedasticNoise(\n",
              "    (raw_noise_constraint): GreaterThan(1.000E-04)\n",
              "  )\n",
              ")"
            ]
          },
          "metadata": {
            "tags": []
          },
          "execution_count": 29
        }
      ]
    },
    {
      "cell_type": "markdown",
      "metadata": {
        "id": "0ab25us0wQOq"
      },
      "source": [
        "### Posterior Distribution and Sampling from Posterior\n",
        "\n",
        "The samples are drawn after 20 epochs of training. With more epochs of training better fit can be obtained."
      ]
    },
    {
      "cell_type": "code",
      "metadata": {
        "colab": {
          "base_uri": "https://localhost:8080/"
        },
        "id": "9aer0lxSgyl-",
        "outputId": "9826cfb8-ed95-4b30-ffc3-73e4123c0255"
      },
      "source": [
        "posterior = model(plotting_x)\n",
        "posterior_samples = posterior.rsample(sample_shape=torch.Size([2]))\n",
        "posterior_samples.shape"
      ],
      "execution_count": 30,
      "outputs": [
        {
          "output_type": "execute_result",
          "data": {
            "text/plain": [
              "torch.Size([2, 10000])"
            ]
          },
          "metadata": {
            "tags": []
          },
          "execution_count": 30
        }
      ]
    },
    {
      "cell_type": "code",
      "metadata": {
        "colab": {
          "base_uri": "https://localhost:8080/",
          "height": 265
        },
        "id": "pKgB6Awyw6Vf",
        "outputId": "bf5526f6-bf6c-40f5-e23b-2bb0278c1e04"
      },
      "source": [
        "with torch.no_grad():\n",
        "    plt.figure()\n",
        "    plt.scatter(X_train, y_train, c='black', marker='+')\n",
        "    for i in range(2):\n",
        "        plt.plot(plotting_x, posterior_samples[i, :].numpy())\n",
        "    plt.show()"
      ],
      "execution_count": 31,
      "outputs": [
        {
          "output_type": "display_data",
          "data": {
            "image/png": "[encoded data removed]",
            "text/plain": [
              "<Figure size 432x288 with 1 Axes>"
            ]
          },
          "metadata": {
            "tags": [],
            "needs_background": "light"
          }
        }
      ]
    },
    {
      "cell_type": "code",
      "metadata": {
        "colab": {
          "base_uri": "https://localhost:8080/"
        },
        "id": "DltV-3BWvUNE",
        "outputId": "36c987cd-0e75-41fd-895b-611a39fe3499"
      },
      "source": [
        "ci = posterior.confidence_region()\n",
        "ci[0].shape, ci[1].shape"
      ],
      "execution_count": 32,
      "outputs": [
        {
          "output_type": "execute_result",
          "data": {
            "text/plain": [
              "(torch.Size([10000]), torch.Size([10000]))"
            ]
          },
          "metadata": {
            "tags": []
          },
          "execution_count": 32
        }
      ]
    },
    {
      "cell_type": "code",
      "metadata": {
        "colab": {
          "base_uri": "https://localhost:8080/",
          "height": 265
        },
        "id": "1Seo8YO8qC_v",
        "outputId": "8eef9673-3843-41ff-f576-a84608463d20"
      },
      "source": [
        "with torch.no_grad():\n",
        "    plt.figure()\n",
        "    plt.scatter(X_train, y_train, c='black', marker='+')\n",
        "    plt.plot(plotting_x, posterior.mean.numpy())\n",
        "    plt.fill_between(plotting_x, ci[0].numpy(), ci[1].numpy(), alpha=0.5)\n",
        "    plt.show()"
      ],
      "execution_count": 33,
      "outputs": [
        {
          "output_type": "display_data",
          "data": {
            "image/png": "[encoded data removed]",
            "text/plain": [
              "<Figure size 432x288 with 1 Axes>"
            ]
          },
          "metadata": {
            "tags": [],
            "needs_background": "light"
          }
        }
      ]
    },
    {
      "cell_type": "code",
      "metadata": {
        "id": "ULtcOUvgETX6"
      },
      "source": [
        "f_preds = model(X_test)\n",
        "y_preds = likelihood(model(X_test))\n",
        "\n",
        "f_mean = f_preds.mean\n",
        "f_var = f_preds.variance\n",
        "f_covar = f_preds.covariance_matrix\n",
        "f_samples = f_preds.sample(sample_shape=torch.Size(1000,))"
      ],
      "execution_count": null,
      "outputs": []
    },
    {
      "cell_type": "code",
      "metadata": {
        "id": "39uCHZQ1FsX4"
      },
      "source": [
        "# Get into evaluation (predictive posterior) mode\n",
        "model.eval()\n",
        "likelihood.eval()\n",
        "\n",
        "# Test points are regularly spaced along [0,1]\n",
        "# Make predictions by feeding model through likelihood\n",
        "with torch.no_grad(), gpytorch.settings.fast_pred_var():\n",
        "    X_test = torch.linspace(0, 1, 51)\n",
        "    observed_pred = likelihood(model(X_test))"
      ],
      "execution_count": null,
      "outputs": []
    },
    {
      "cell_type": "code",
      "metadata": {
        "colab": {
          "base_uri": "https://localhost:8080/",
          "height": 215
        },
        "id": "PjsN4fLSH64i",
        "outputId": "b17b936e-2490-4c92-9cd9-2fea939e63f6"
      },
      "source": [
        "with torch.no_grad():\n",
        "    # Initialize plot\n",
        "    f, ax = plt.subplots(1, 1, figsize=(4, 3))\n",
        "\n",
        "    # Get upper and lower confidence bounds\n",
        "    lower, upper = observed_pred.confidence_region()\n",
        "    # Plot training data as black stars\n",
        "    ax.plot(X_train.numpy(), y_train.numpy(), '*')\n",
        "    # Plot predictive means as blue line\n",
        "    ax.plot(X_test.numpy(), observed_pred.mean.numpy(), 'b')\n",
        "    # Shade between the lower and upper confidence bounds\n",
        "    ax.fill_between(X_test.numpy(), lower.numpy(), upper.numpy(), alpha=0.5)\n",
        "    ax.set_ylim([-3, 3])\n",
        "    ax.legend(['Observed Data', 'Mean', 'Confidence'])"
      ],
      "execution_count": null,
      "outputs": [
        {
          "output_type": "display_data",
          "data": {
            "image/png": "[encoded data removed]",
            "text/plain": [
              "<Figure size 288x216 with 1 Axes>"
            ]
          },
          "metadata": {
            "tags": [],
            "needs_background": "light"
          }
        }
      ]
    },
    {
      "cell_type": "code",
      "metadata": {
        "id": "E3F9BgpZIKlU"
      },
      "source": [
        "X_test = torch.linspace(0, 1, 51)\n",
        "y_test = torch.sin(X_test * (2*math.pi)) + torch.randn(X_test.size())*math.sqrt(0.04)"
      ],
      "execution_count": null,
      "outputs": []
    }
  ]
}