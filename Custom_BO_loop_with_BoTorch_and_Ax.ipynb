{
  "nbformat": 4,
  "nbformat_minor": 0,
  "metadata": {
    "colab": {
      "name": "Custom_BO_loop_with_BoTorch_and_Ax.ipynb",
      "provenance": [],
      "collapsed_sections": [],
      "authorship_tag": "ABX9TyOlpGuuwAYlyiorpksD/ANf",
      "include_colab_link": true
    },
    "kernelspec": {
      "name": "python3",
      "display_name": "Python 3"
    },
    "language_info": {
      "name": "python"
    }
  },
  "cells": [
    {
      "cell_type": "markdown",
      "metadata": {
        "id": "view-in-github",
        "colab_type": "text"
      },
      "source": [
        "<a href=\"https://colab.research.google.com/github/Utkarshp1/Bayesian_Optimisation/blob/master/Custom_BO_loop_with_BoTorch_and_Ax.ipynb\" target=\"_parent\"><img src=\"https://colab.research.google.com/assets/colab-badge.svg\" alt=\"Open In Colab\"/></a>"
      ]
    },
    {
      "cell_type": "markdown",
      "metadata": {
        "id": "G6abM14CgcfC"
      },
      "source": [
        "# Using a custom BoTorch model with Ax"
      ]
    },
    {
      "cell_type": "code",
      "metadata": {
        "colab": {
          "base_uri": "https://localhost:8080/"
        },
        "id": "Tmq_3SRIeTFp",
        "outputId": "87552146-a10d-4cf6-cf64-35d88f9997e1"
      },
      "source": [
        "!pip install gpytorch"
      ],
      "execution_count": null,
      "outputs": [
        {
          "output_type": "stream",
          "text": [
            "Collecting gpytorch\n",
            "\u001b[?25l  Downloading https://files.pythonhosted.org/packages/4a/fa/b6db02ee0e98e89752bdae11534034251bc08317cdc325dd1878732b152d/gpytorch-1.5.0-py2.py3-none-any.whl (498kB)\n",
            "\r\u001b[K     |▋                               | 10kB 13.5MB/s eta 0:00:01\r\u001b[K     |█▎                              | 20kB 18.5MB/s eta 0:00:01\r\u001b[K     |██                              | 30kB 18.4MB/s eta 0:00:01\r\u001b[K     |██▋                             | 40kB 15.5MB/s eta 0:00:01\r\u001b[K     |███▎                            | 51kB 7.8MB/s eta 0:00:01\r\u001b[K     |████                            | 61kB 8.2MB/s eta 0:00:01\r\u001b[K     |████▋                           | 71kB 8.1MB/s eta 0:00:01\r\u001b[K     |█████▎                          | 81kB 8.8MB/s eta 0:00:01\r\u001b[K     |██████                          | 92kB 8.2MB/s eta 0:00:01\r\u001b[K     |██████▋                         | 102kB 7.5MB/s eta 0:00:01\r\u001b[K     |███████▎                        | 112kB 7.5MB/s eta 0:00:01\r\u001b[K     |████████                        | 122kB 7.5MB/s eta 0:00:01\r\u001b[K     |████████▌                       | 133kB 7.5MB/s eta 0:00:01\r\u001b[K     |█████████▏                      | 143kB 7.5MB/s eta 0:00:01\r\u001b[K     |█████████▉                      | 153kB 7.5MB/s eta 0:00:01\r\u001b[K     |██████████▌                     | 163kB 7.5MB/s eta 0:00:01\r\u001b[K     |███████████▏                    | 174kB 7.5MB/s eta 0:00:01\r\u001b[K     |███████████▉                    | 184kB 7.5MB/s eta 0:00:01\r\u001b[K     |████████████▌                   | 194kB 7.5MB/s eta 0:00:01\r\u001b[K     |█████████████▏                  | 204kB 7.5MB/s eta 0:00:01\r\u001b[K     |█████████████▉                  | 215kB 7.5MB/s eta 0:00:01\r\u001b[K     |██████████████▌                 | 225kB 7.5MB/s eta 0:00:01\r\u001b[K     |███████████████▏                | 235kB 7.5MB/s eta 0:00:01\r\u001b[K     |███████████████▉                | 245kB 7.5MB/s eta 0:00:01\r\u001b[K     |████████████████▍               | 256kB 7.5MB/s eta 0:00:01\r\u001b[K     |█████████████████               | 266kB 7.5MB/s eta 0:00:01\r\u001b[K     |█████████████████▊              | 276kB 7.5MB/s eta 0:00:01\r\u001b[K     |██████████████████▍             | 286kB 7.5MB/s eta 0:00:01\r\u001b[K     |███████████████████             | 296kB 7.5MB/s eta 0:00:01\r\u001b[K     |███████████████████▊            | 307kB 7.5MB/s eta 0:00:01\r\u001b[K     |████████████████████▍           | 317kB 7.5MB/s eta 0:00:01\r\u001b[K     |█████████████████████           | 327kB 7.5MB/s eta 0:00:01\r\u001b[K     |█████████████████████▊          | 337kB 7.5MB/s eta 0:00:01\r\u001b[K     |██████████████████████▍         | 348kB 7.5MB/s eta 0:00:01\r\u001b[K     |███████████████████████         | 358kB 7.5MB/s eta 0:00:01\r\u001b[K     |███████████████████████▊        | 368kB 7.5MB/s eta 0:00:01\r\u001b[K     |████████████████████████▎       | 378kB 7.5MB/s eta 0:00:01\r\u001b[K     |█████████████████████████       | 389kB 7.5MB/s eta 0:00:01\r\u001b[K     |█████████████████████████▋      | 399kB 7.5MB/s eta 0:00:01\r\u001b[K     |██████████████████████████▎     | 409kB 7.5MB/s eta 0:00:01\r\u001b[K     |███████████████████████████     | 419kB 7.5MB/s eta 0:00:01\r\u001b[K     |███████████████████████████▋    | 430kB 7.5MB/s eta 0:00:01\r\u001b[K     |████████████████████████████▎   | 440kB 7.5MB/s eta 0:00:01\r\u001b[K     |█████████████████████████████   | 450kB 7.5MB/s eta 0:00:01\r\u001b[K     |█████████████████████████████▋  | 460kB 7.5MB/s eta 0:00:01\r\u001b[K     |██████████████████████████████▎ | 471kB 7.5MB/s eta 0:00:01\r\u001b[K     |███████████████████████████████ | 481kB 7.5MB/s eta 0:00:01\r\u001b[K     |███████████████████████████████▋| 491kB 7.5MB/s eta 0:00:01\r\u001b[K     |████████████████████████████████| 501kB 7.5MB/s \n",
            "\u001b[?25hRequirement already satisfied: scikit-learn in /usr/local/lib/python3.7/dist-packages (from gpytorch) (0.22.2.post1)\n",
            "Requirement already satisfied: torch>=1.8.1 in /usr/local/lib/python3.7/dist-packages (from gpytorch) (1.9.0+cu102)\n",
            "Requirement already satisfied: scipy in /usr/local/lib/python3.7/dist-packages (from gpytorch) (1.4.1)\n",
            "Requirement already satisfied: joblib>=0.11 in /usr/local/lib/python3.7/dist-packages (from scikit-learn->gpytorch) (1.0.1)\n",
            "Requirement already satisfied: numpy>=1.11.0 in /usr/local/lib/python3.7/dist-packages (from scikit-learn->gpytorch) (1.19.5)\n",
            "Requirement already satisfied: typing-extensions in /usr/local/lib/python3.7/dist-packages (from torch>=1.8.1->gpytorch) (3.7.4.3)\n",
            "Installing collected packages: gpytorch\n",
            "Successfully installed gpytorch-1.5.0\n"
          ],
          "name": "stdout"
        }
      ]
    },
    {
      "cell_type": "code",
      "metadata": {
        "colab": {
          "base_uri": "https://localhost:8080/"
        },
        "id": "gEU4L4t3e_p3",
        "outputId": "831195dd-b73c-4237-8828-0eadea9dbcc1"
      },
      "source": [
        "!pip install botorch"
      ],
      "execution_count": null,
      "outputs": [
        {
          "output_type": "stream",
          "text": [
            "Collecting botorch\n",
            "\u001b[?25l  Downloading https://files.pythonhosted.org/packages/28/c4/21f596cd9e22abc33861a3314e0003002a1e948eddcb377289d0354d5e32/botorch-0.5.0-py3-none-any.whl (475kB)\n",
            "\r\u001b[K     |▊                               | 10kB 17.3MB/s eta 0:00:01\r\u001b[K     |█▍                              | 20kB 20.9MB/s eta 0:00:01\r\u001b[K     |██                              | 30kB 16.2MB/s eta 0:00:01\r\u001b[K     |██▊                             | 40kB 14.4MB/s eta 0:00:01\r\u001b[K     |███▌                            | 51kB 8.2MB/s eta 0:00:01\r\u001b[K     |████▏                           | 61kB 9.5MB/s eta 0:00:01\r\u001b[K     |████▉                           | 71kB 8.9MB/s eta 0:00:01\r\u001b[K     |█████▌                          | 81kB 9.3MB/s eta 0:00:01\r\u001b[K     |██████▏                         | 92kB 9.1MB/s eta 0:00:01\r\u001b[K     |███████                         | 102kB 7.8MB/s eta 0:00:01\r\u001b[K     |███████▋                        | 112kB 7.8MB/s eta 0:00:01\r\u001b[K     |████████▎                       | 122kB 7.8MB/s eta 0:00:01\r\u001b[K     |█████████                       | 133kB 7.8MB/s eta 0:00:01\r\u001b[K     |█████████▋                      | 143kB 7.8MB/s eta 0:00:01\r\u001b[K     |██████████▍                     | 153kB 7.8MB/s eta 0:00:01\r\u001b[K     |███████████                     | 163kB 7.8MB/s eta 0:00:01\r\u001b[K     |███████████▊                    | 174kB 7.8MB/s eta 0:00:01\r\u001b[K     |████████████▍                   | 184kB 7.8MB/s eta 0:00:01\r\u001b[K     |█████████████                   | 194kB 7.8MB/s eta 0:00:01\r\u001b[K     |█████████████▉                  | 204kB 7.8MB/s eta 0:00:01\r\u001b[K     |██████████████▌                 | 215kB 7.8MB/s eta 0:00:01\r\u001b[K     |███████████████▏                | 225kB 7.8MB/s eta 0:00:01\r\u001b[K     |███████████████▉                | 235kB 7.8MB/s eta 0:00:01\r\u001b[K     |████████████████▌               | 245kB 7.8MB/s eta 0:00:01\r\u001b[K     |█████████████████▎              | 256kB 7.8MB/s eta 0:00:01\r\u001b[K     |██████████████████              | 266kB 7.8MB/s eta 0:00:01\r\u001b[K     |██████████████████▋             | 276kB 7.8MB/s eta 0:00:01\r\u001b[K     |███████████████████▎            | 286kB 7.8MB/s eta 0:00:01\r\u001b[K     |████████████████████            | 296kB 7.8MB/s eta 0:00:01\r\u001b[K     |████████████████████▊           | 307kB 7.8MB/s eta 0:00:01\r\u001b[K     |█████████████████████▍          | 317kB 7.8MB/s eta 0:00:01\r\u001b[K     |██████████████████████          | 327kB 7.8MB/s eta 0:00:01\r\u001b[K     |██████████████████████▊         | 337kB 7.8MB/s eta 0:00:01\r\u001b[K     |███████████████████████▍        | 348kB 7.8MB/s eta 0:00:01\r\u001b[K     |████████████████████████▏       | 358kB 7.8MB/s eta 0:00:01\r\u001b[K     |████████████████████████▉       | 368kB 7.8MB/s eta 0:00:01\r\u001b[K     |█████████████████████████▌      | 378kB 7.8MB/s eta 0:00:01\r\u001b[K     |██████████████████████████▏     | 389kB 7.8MB/s eta 0:00:01\r\u001b[K     |██████████████████████████▉     | 399kB 7.8MB/s eta 0:00:01\r\u001b[K     |███████████████████████████▋    | 409kB 7.8MB/s eta 0:00:01\r\u001b[K     |████████████████████████████▎   | 419kB 7.8MB/s eta 0:00:01\r\u001b[K     |█████████████████████████████   | 430kB 7.8MB/s eta 0:00:01\r\u001b[K     |█████████████████████████████▋  | 440kB 7.8MB/s eta 0:00:01\r\u001b[K     |██████████████████████████████▎ | 450kB 7.8MB/s eta 0:00:01\r\u001b[K     |███████████████████████████████ | 460kB 7.8MB/s eta 0:00:01\r\u001b[K     |███████████████████████████████▊| 471kB 7.8MB/s eta 0:00:01\r\u001b[K     |████████████████████████████████| 481kB 7.8MB/s \n",
            "\u001b[?25hRequirement already satisfied: gpytorch>=1.5 in /usr/local/lib/python3.7/dist-packages (from botorch) (1.5.0)\n",
            "Requirement already satisfied: scipy in /usr/local/lib/python3.7/dist-packages (from botorch) (1.4.1)\n",
            "Requirement already satisfied: torch>=1.8.1 in /usr/local/lib/python3.7/dist-packages (from botorch) (1.9.0+cu102)\n",
            "Requirement already satisfied: scikit-learn in /usr/local/lib/python3.7/dist-packages (from gpytorch>=1.5->botorch) (0.22.2.post1)\n",
            "Requirement already satisfied: numpy>=1.13.3 in /usr/local/lib/python3.7/dist-packages (from scipy->botorch) (1.19.5)\n",
            "Requirement already satisfied: typing-extensions in /usr/local/lib/python3.7/dist-packages (from torch>=1.8.1->botorch) (3.7.4.3)\n",
            "Requirement already satisfied: joblib>=0.11 in /usr/local/lib/python3.7/dist-packages (from scikit-learn->gpytorch>=1.5->botorch) (1.0.1)\n",
            "Installing collected packages: botorch\n",
            "Successfully installed botorch-0.5.0\n"
          ],
          "name": "stdout"
        }
      ]
    },
    {
      "cell_type": "code",
      "metadata": {
        "colab": {
          "base_uri": "https://localhost:8080/"
        },
        "id": "aLeJfo5N9EYo",
        "outputId": "4c49d5aa-4fa4-4a90-aa8f-6f49117672b2"
      },
      "source": [
        "!pip3 install ax-platform"
      ],
      "execution_count": null,
      "outputs": [
        {
          "output_type": "stream",
          "text": [
            "Collecting ax-platform\n",
            "\u001b[?25l  Downloading https://files.pythonhosted.org/packages/3c/6e/f2c94834dac86ba105ff0c46a15600f9da456e7b38de5d143144d55de1cb/ax_platform-0.2.0-py3-none-any.whl (815kB)\n",
            "\u001b[K     |████████████████████████████████| 819kB 8.4MB/s \n",
            "\u001b[?25hRequirement already satisfied: botorch==0.5.0 in /usr/local/lib/python3.7/dist-packages (from ax-platform) (0.5.0)\n",
            "Requirement already satisfied: plotly in /usr/local/lib/python3.7/dist-packages (from ax-platform) (4.4.1)\n",
            "Requirement already satisfied: typeguard in /usr/local/lib/python3.7/dist-packages (from ax-platform) (2.7.1)\n",
            "Requirement already satisfied: jinja2 in /usr/local/lib/python3.7/dist-packages (from ax-platform) (2.11.3)\n",
            "Requirement already satisfied: scipy in /usr/local/lib/python3.7/dist-packages (from ax-platform) (1.4.1)\n",
            "Requirement already satisfied: pandas in /usr/local/lib/python3.7/dist-packages (from ax-platform) (1.1.5)\n",
            "Requirement already satisfied: scikit-learn in /usr/local/lib/python3.7/dist-packages (from ax-platform) (0.22.2.post1)\n",
            "Requirement already satisfied: torch>=1.8.1 in /usr/local/lib/python3.7/dist-packages (from botorch==0.5.0->ax-platform) (1.9.0+cu102)\n",
            "Requirement already satisfied: gpytorch>=1.5 in /usr/local/lib/python3.7/dist-packages (from botorch==0.5.0->ax-platform) (1.5.0)\n",
            "Requirement already satisfied: six in /usr/local/lib/python3.7/dist-packages (from plotly->ax-platform) (1.15.0)\n",
            "Requirement already satisfied: retrying>=1.3.3 in /usr/local/lib/python3.7/dist-packages (from plotly->ax-platform) (1.3.3)\n",
            "Requirement already satisfied: MarkupSafe>=0.23 in /usr/local/lib/python3.7/dist-packages (from jinja2->ax-platform) (2.0.1)\n",
            "Requirement already satisfied: numpy>=1.13.3 in /usr/local/lib/python3.7/dist-packages (from scipy->ax-platform) (1.19.5)\n",
            "Requirement already satisfied: pytz>=2017.2 in /usr/local/lib/python3.7/dist-packages (from pandas->ax-platform) (2018.9)\n",
            "Requirement already satisfied: python-dateutil>=2.7.3 in /usr/local/lib/python3.7/dist-packages (from pandas->ax-platform) (2.8.1)\n",
            "Requirement already satisfied: joblib>=0.11 in /usr/local/lib/python3.7/dist-packages (from scikit-learn->ax-platform) (1.0.1)\n",
            "Requirement already satisfied: typing-extensions in /usr/local/lib/python3.7/dist-packages (from torch>=1.8.1->botorch==0.5.0->ax-platform) (3.7.4.3)\n",
            "Installing collected packages: ax-platform\n",
            "Successfully installed ax-platform-0.2.0\n"
          ],
          "name": "stdout"
        }
      ]
    },
    {
      "cell_type": "markdown",
      "metadata": {
        "id": "d2efUYLVgljL"
      },
      "source": [
        "## Implementing the custom model\n",
        "\n",
        "We implement a very simple gpytorch Exact GP Model that uses an RBF kernel (with ARD) and infers a (homoskedastic) noise level."
      ]
    },
    {
      "cell_type": "code",
      "metadata": {
        "id": "6X-LWKd8fZJE"
      },
      "source": [
        "from botorch.models.gpytorch import GPyTorchModel\n",
        "from gpytorch.distributions import MultivariateNormal\n",
        "from gpytorch.means import ConstantMean\n",
        "from gpytorch.models import ExactGP\n",
        "from gpytorch.kernels import RBFKernel, ScaleKernel\n",
        "from gpytorch.likelihoods import GaussianLikelihood\n",
        "from gpytorch.mlls import ExactMarginalLogLikelihood\n",
        "from gpytorch.priors import GammaPrior"
      ],
      "execution_count": null,
      "outputs": []
    },
    {
      "cell_type": "code",
      "metadata": {
        "id": "Ptiz-QcChgKP"
      },
      "source": [
        "class SimpleCustomGP(ExactGP, GPyTorchModel):\n",
        "    _num_outputs = 1    # to inform GPyTorchModel API\n",
        "\n",
        "    def __init__(self, X_train,  y_train):\n",
        "        # squeeze output dim before passing y_train to ExactGP\n",
        "        super().__init__(X_train, y_train.squeeze(-1), GaussianLikelihood())\n",
        "        self.mean_module = ConstantMean()\n",
        "        self.covar_module = ScaleKernel(\n",
        "            base_kernel=RBFKernel(ard_num_dims=X_train.shape[-1])\n",
        "        )\n",
        "        self.to(X_train)    # make sure we're on the right device/dtype\n",
        "\n",
        "    def forward(self, x):\n",
        "        mean_x = self.mean_module(x)\n",
        "        covar_x = self.covar_module(x)\n",
        "        return MultivariateNormal(mean_x, covar_x)"
      ],
      "execution_count": null,
      "outputs": []
    },
    {
      "cell_type": "markdown",
      "metadata": {
        "id": "boLwNExQxJNa"
      },
      "source": [
        "## Define a factory function to be used with Ax's BotorchModel"
      ]
    },
    {
      "cell_type": "code",
      "metadata": {
        "id": "ID_9OLNhxIt9"
      },
      "source": [
        "from botorch.fit import fit_gpytorch_model\n",
        "\n",
        "def _get_and_fit_simple_custom_gp(Xs, Ys, **kwargs):\n",
        "    model = SimpleCustomGP(Xs[0], Ys[0])\n",
        "    mll = ExactMarginalLogLikelihood(model.likelihood, model)\n",
        "    fit_gpytorch_model(mll)\n",
        "    return model"
      ],
      "execution_count": null,
      "outputs": []
    },
    {
      "cell_type": "markdown",
      "metadata": {
        "id": "4eIBekmjyEr3"
      },
      "source": [
        "## Set up the optimization problem in Ax\n",
        "\n",
        "We use the Branin function, a simple benchmark function in two dimensions. This function is defined as follows:\n",
        "$$ f(x) = \\biggl(x_{2} - \\frac{5.1}{4\\pi^{2}}x_{1}^{2} + \\frac{5}{\\pi}x_{1}-6\\biggr)^2 + 10\\biggl(1-\\frac{1}{8\\pi}\\biggr)cos(x_{1}) + 10$$"
      ]
    },
    {
      "cell_type": "code",
      "metadata": {
        "id": "72ppka5kkbjO"
      },
      "source": [
        "import random\n",
        "import numpy as np\n",
        "\n",
        "def branin(parameterization, *args):\n",
        "    x1, x2 = parameterization[\"x1\"], parameterization[\"x2\"]\n",
        "    y = (x2 - 5.1 / (4*np.pi**2) * x1**2 + 5*x1/np.pi - 6)**2\n",
        "    y += 10*(1- 1/(8*np.pi))*np.cos(x1) + 10\n",
        "    # let's add some synthetic observation noise\n",
        "    y += random.normalvariate(0, 0.1)\n",
        "    return {'branin': (y, 0.0)}"
      ],
      "execution_count": null,
      "outputs": []
    },
    {
      "cell_type": "markdown",
      "metadata": {
        "id": "SAnkFnXE1L7b"
      },
      "source": [
        "We need to define a search space for our experiment that defines the parameters and the set of feasible values."
      ]
    },
    {
      "cell_type": "code",
      "metadata": {
        "id": "kfAUSkJh1KHi"
      },
      "source": [
        "from ax import ParameterType, RangeParameter, SearchSpace\n",
        "\n",
        "search_space = SearchSpace(\n",
        "    parameters=[\n",
        "        RangeParameter(\n",
        "            name=\"x1\", parameter_type=ParameterType.FLOAT, lower=-5, upper=10\n",
        "        ),\n",
        "        RangeParameter(\n",
        "            name=\"x2\", parameter_type=ParameterType.FLOAT, lower=0, upper=15\n",
        "        ),\n",
        "    ]\n",
        ")"
      ],
      "execution_count": null,
      "outputs": []
    },
    {
      "cell_type": "markdown",
      "metadata": {
        "id": "vCUTmfcB5IMH"
      },
      "source": [
        "Third, we make a `SimpleExperiment`-- note that the `objective_name` needs to be one of the metric names returned by the evaluation function."
      ]
    },
    {
      "cell_type": "code",
      "metadata": {
        "id": "hqe9bx3z4B9S"
      },
      "source": [
        "from ax import SimpleExperiment\n",
        "\n",
        "exp = SimpleExperiment(\n",
        "    name='test_branin',\n",
        "    search_space=search_space,\n",
        "    evaluation_function=branin,\n",
        "    objective_name=\"branin\",\n",
        "    minimize=True,\n",
        ")"
      ],
      "execution_count": null,
      "outputs": []
    },
    {
      "cell_type": "markdown",
      "metadata": {
        "id": "a6ZsoD1W51_4"
      },
      "source": [
        "We use the Sobol generator to create 5 (quasi-) random initial point in the search space. Calling `batch_trial` will cause Ax to evaluate the underlying `branin` function at the generated points, and automatically keep track of the results."
      ]
    },
    {
      "cell_type": "code",
      "metadata": {
        "id": "X9BlXE225EAt",
        "colab": {
          "base_uri": "https://localhost:8080/"
        },
        "outputId": "8e612339-b837-4b91-c92f-734d9f07f0e0"
      },
      "source": [
        "from ax.modelbridge import get_sobol\n",
        "\n",
        "sobol = get_sobol(exp.search_space)\n",
        "exp.new_batch_trial(generator_run=sobol.gen(5))"
      ],
      "execution_count": null,
      "outputs": [
        {
          "output_type": "execute_result",
          "data": {
            "text/plain": [
              "BatchTrial(experiment_name='test_branin', index=0, status=TrialStatus.CANDIDATE)"
            ]
          },
          "metadata": {
            "tags": []
          },
          "execution_count": 13
        }
      ]
    },
    {
      "cell_type": "markdown",
      "metadata": {
        "id": "Bfn_tCYM9XGn"
      },
      "source": [
        "## Run the optimization loop"
      ]
    },
    {
      "cell_type": "code",
      "metadata": {
        "colab": {
          "base_uri": "https://localhost:8080/"
        },
        "id": "aFwjE61e8mim",
        "outputId": "2a455261-aecd-4c3c-f2b7-f509de668213"
      },
      "source": [
        "from ax.modelbridge.factory import get_botorch\n",
        "\n",
        "for i in range(5):\n",
        "    print(f\"Running optimization batch {i+1}/5...\")\n",
        "    model = get_botorch(\n",
        "        experiment=exp,\n",
        "        data=exp.eval(),\n",
        "        search_space=exp.search_space,\n",
        "        model_constructor=_get_and_fit_simple_custom_gp,\n",
        "    )\n",
        "    batch = exp.new_trial(generator_run=model.gen(1))\n",
        "\n",
        "print(\"Done!\")"
      ],
      "execution_count": null,
      "outputs": [
        {
          "output_type": "stream",
          "text": [
            "Running optimization batch 1/5...\n",
            "Running optimization batch 2/5...\n",
            "Running optimization batch 3/5...\n",
            "Running optimization batch 4/5...\n",
            "Running optimization batch 5/5...\n",
            "Done!\n"
          ],
          "name": "stdout"
        }
      ]
    },
    {
      "cell_type": "code",
      "metadata": {
        "id": "mwCw7rIM9_Xh"
      },
      "source": [
        ""
      ],
      "execution_count": null,
      "outputs": []
    }
  ]
}